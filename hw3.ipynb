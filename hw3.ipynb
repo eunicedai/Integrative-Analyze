{
  "nbformat": 4,
  "nbformat_minor": 0,
  "metadata": {
    "colab": {
      "name": "Untitled0.ipynb",
      "provenance": [],
      "collapsed_sections": [],
      "authorship_tag": "ABX9TyMsICK8iYdzjw2rU6OwcefZ",
      "include_colab_link": true
    },
    "kernelspec": {
      "name": "python3",
      "display_name": "Python 3"
    }
  },
  "cells": [
    {
      "cell_type": "markdown",
      "metadata": {
        "id": "view-in-github",
        "colab_type": "text"
      },
      "source": [
        "<a href=\"https://colab.research.google.com/github/eunicedai/Integrative-Analyze/blob/master/hw3.ipynb\" target=\"_parent\"><img src=\"https://colab.research.google.com/assets/colab-badge.svg\" alt=\"Open In Colab\"/></a>"
      ]
    },
    {
      "cell_type": "markdown",
      "metadata": {
        "id": "BfcjNhM2LV_4",
        "colab_type": "text"
      },
      "source": [
        "### **Homework 3** \n",
        "\n",
        "> TaiHsuan Wu | 2524355409\n"
      ]
    },
    {
      "cell_type": "code",
      "metadata": {
        "id": "pwuak-AByXmj",
        "colab_type": "code",
        "colab": {}
      },
      "source": [
        "import sys\n",
        "sys.path.append('/usr/local/lib/python3.6/site-packages')"
      ],
      "execution_count": 0,
      "outputs": []
    },
    {
      "cell_type": "code",
      "metadata": {
        "id": "Dptbu9B8ybUZ",
        "colab_type": "code",
        "colab": {}
      },
      "source": [
        "%matplotlib inline\n",
        "import matplotlib.pyplot as plt\n",
        "import numpy as np\n",
        "import pandas as pd"
      ],
      "execution_count": 0,
      "outputs": []
    },
    {
      "cell_type": "code",
      "metadata": {
        "id": "7urTl-ONycv4",
        "colab_type": "code",
        "colab": {}
      },
      "source": [
        "!pip install -q pyomo"
      ],
      "execution_count": 0,
      "outputs": []
    },
    {
      "cell_type": "code",
      "metadata": {
        "id": "Vj6ENWbmyeO4",
        "colab_type": "code",
        "colab": {}
      },
      "source": [
        "from __future__ import division\n",
        "from pyomo.environ import *"
      ],
      "execution_count": 0,
      "outputs": []
    },
    {
      "cell_type": "code",
      "metadata": {
        "id": "lYZHeFyiyf66",
        "colab_type": "code",
        "colab": {}
      },
      "source": [
        "!apt-get install -y -qq glpk-utils"
      ],
      "execution_count": 0,
      "outputs": []
    },
    {
      "cell_type": "markdown",
      "metadata": {
        "id": "dDdaIMq5LgqI",
        "colab_type": "text"
      },
      "source": [
        "1) Formulate & solve Two “All-in-One” LPs (as in class).\n",
        "For the first model, assume that the plan includes\n",
        "specifying how many type 1 orders are used for"
      ]
    },
    {
      "cell_type": "markdown",
      "metadata": {
        "id": "Qr-H92sR0qJL",
        "colab_type": "text"
      },
      "source": [
        "> $min\\ \\ c_1x_1+c_2x_2-r_1(z_{11})-r_2(z_{12}+z_{22})+0.2(x_1-z_{11}-z_{12}+x_2-z_{22})\\\\+P_H(10(lack1_H+lack2_H)+0.2(more1_H+more2_H))\\\\+P_L(10(lack1_L+lack2_L)+0.2(more1_L+more2_L))$\n",
        "\n",
        "> $s.t\\ \\ x_1-z_{11}-z_{12}\\ge 0\\\\x_2-z_{22}\\ge 0\\\\ z_{11}+lack_{1H}+more_{1H} = d_{1H}\\\\ z_{11}+lack_{1L}+more_{1L} = d_{1L}\\\\ z_{12}+z_{22}+lack_{2H}+more_{2H}=d_{2H}\\\\ z_{12}+z_{22}+lack_{2L}+more_{2L}=d_{2L}$"
      ]
    },
    {
      "cell_type": "code",
      "metadata": {
        "id": "prHvLHcTs8KH",
        "colab_type": "code",
        "colab": {}
      },
      "source": [
        "def model1():\n",
        "  m = ConcreteModel()\n",
        "\n",
        "  m.x1 = Var(within=NonNegativeReals)\n",
        "  m.x2 = Var(within=NonNegativeReals)\n",
        "\n",
        "  m.lack1 = Var(range(2), within=NonNegativeReals)\n",
        "  m.lack2 = Var(range(2), within=NonNegativeReals)\n",
        "  m.more1 = Var(range(2), within=NonNegativeReals)\n",
        "  m.more2 = Var(range(2), within=NonNegativeReals)\n",
        "  m.z11 = Var(within=NonNegativeReals)\n",
        "  m.z12 = Var(within=NonNegativeReals)\n",
        "  m.z22 = Var(within=NonNegativeReals)\n",
        "\n",
        "  m.cost = Expression(initialize=(4*m.x1+2*m.x2))\n",
        "  m.rev = Expression(initialize=(-8*m.z11-4*(m.z12 + m.z22)+0.2*(m.x1-m.z11-m.z12+m.x2-m.z22)))\n",
        "  m.high = Expression(initialize=(10*(m.lack1[0]+m.lack2[0])+0.2*(m.more1[0]+m.more2[0])))\n",
        "  m.low = Expression(initialize=(10*(m.lack1[1]+m.lack2[1])+0.2*(m.more1[1]+m.more2[1])))\n",
        "\n",
        "  m.obj = Objective(expr= m.cost+m.rev+0.3*m.high+0.7*m.low, sense=minimize)\n",
        "\n",
        "  m.limit = ConstraintList()\n",
        "  m.limit.add(expr= m.x1-m.z12-m.z11 >= 0)\n",
        "  m.limit.add(expr= m.x2-m.z22 >= 0)\n",
        "  m.limit.add(expr= m.z11+m.lack1[0]+m.more1[0] == 125)\n",
        "  m.limit.add(expr= m.z11+m.lack1[1]+m.more1[1] == 75)\n",
        "  m.limit.add(expr= m.z12+m.z22+m.lack2[0]+m.more2[0] == 100) \n",
        "  m.limit.add(expr= m.z12+m.z22+m.lack2[1]+m.more2[1] == 112.5)\n",
        "  \n",
        "  SolverFactory('glpk', executable='/usr/bin/glpsol').solve(m)\n",
        "  return m"
      ],
      "execution_count": 0,
      "outputs": []
    },
    {
      "cell_type": "code",
      "metadata": {
        "id": "M91qTTPdBqT5",
        "colab_type": "code",
        "colab": {
          "base_uri": "https://localhost:8080/",
          "height": 80
        },
        "outputId": "abe3ca6a-d647-44c5-8070-0bae7fdbdb0c"
      },
      "source": [
        "model1 = tt()\n",
        "m1 = pd.DataFrame(columns=['x1', 'x2', 'z11', 'z12', 'z22', 'objective'], index=['value']) \n",
        "m1['x1'] = model1.x1()\n",
        "m1['x2'] = model1.x2()\n",
        "m1['z11'] = model1.z11()\n",
        "m1['z12'] = model1.z12()\n",
        "m1['z22'] = model1.z22()\n",
        "m1['objective'] = -model1.obj()\n",
        "m1"
      ],
      "execution_count": 121,
      "outputs": [
        {
          "output_type": "execute_result",
          "data": {
            "text/html": [
              "<div>\n",
              "<style scoped>\n",
              "    .dataframe tbody tr th:only-of-type {\n",
              "        vertical-align: middle;\n",
              "    }\n",
              "\n",
              "    .dataframe tbody tr th {\n",
              "        vertical-align: top;\n",
              "    }\n",
              "\n",
              "    .dataframe thead th {\n",
              "        text-align: right;\n",
              "    }\n",
              "</style>\n",
              "<table border=\"1\" class=\"dataframe\">\n",
              "  <thead>\n",
              "    <tr style=\"text-align: right;\">\n",
              "      <th></th>\n",
              "      <th>x1</th>\n",
              "      <th>x2</th>\n",
              "      <th>z11</th>\n",
              "      <th>z12</th>\n",
              "      <th>z22</th>\n",
              "      <th>objective</th>\n",
              "    </tr>\n",
              "  </thead>\n",
              "  <tbody>\n",
              "    <tr>\n",
              "      <th>value</th>\n",
              "      <td>75.0</td>\n",
              "      <td>100.0</td>\n",
              "      <td>75.0</td>\n",
              "      <td>0.0</td>\n",
              "      <td>100.0</td>\n",
              "      <td>495.25</td>\n",
              "    </tr>\n",
              "  </tbody>\n",
              "</table>\n",
              "</div>"
            ],
            "text/plain": [
              "         x1     x2   z11  z12    z22  objective\n",
              "value  75.0  100.0  75.0  0.0  100.0     495.25"
            ]
          },
          "metadata": {
            "tags": []
          },
          "execution_count": 121
        }
      ]
    },
    {
      "cell_type": "markdown",
      "metadata": {
        "id": "wZfTmTeVANXO",
        "colab_type": "text"
      },
      "source": [
        "2) For the second model, any left over quantity of from stage 1\n",
        "can be used in stage 2. (Both\n",
        "are equally weighted)"
      ]
    },
    {
      "cell_type": "markdown",
      "metadata": {
        "id": "xTaSb_Na4u7h",
        "colab_type": "text"
      },
      "source": [
        "> $min\\ \\ c_1x_1+c_2x_2\\\\+P_H(-r_1z_{11H}-r_2(z_{12H}+z_{22H})+10(lack_{1H}+lack_{2H})+0.2(more_{1H}+more_{2H}))\\\\+P_L(-r_1z_{11L}-r_2(z_{12L}+z_{22L})+10(lack_{1L}+lack_{2L})+0.2(more_{1L}+more_{2L}))$\n",
        "\n",
        "> $s.t\\ \\ z_{11H}+z_{12H}+more_{1H}=x_1\\\\ z_{11L}+z_{12L}+more_{1L}=x_1\\\\ z_{22H}+more_{2H}=x_2\\\\ z_{22L}+more_{2L}=x_2\\\\ z_{11}+lack_{1H}+more_{1H} = d_{1H}\\\\ z_{11}+lack_{1L}+more_{1L} = d_{1L}\\\\ z_{12}+z_{22}+lack_{2H}+more_{2H}=d_{2H}\\\\ z_{12}+z_{22}+lack_{2L}+more_{2L}=d_{2L}$"
      ]
    },
    {
      "cell_type": "code",
      "metadata": {
        "id": "0QjCRnoL4cgU",
        "colab_type": "code",
        "colab": {}
      },
      "source": [
        "def model2():\n",
        "  m = ConcreteModel()\n",
        "\n",
        "  m.x1 = Var(within=NonNegativeReals) \n",
        "  m.x2 = Var(within=NonNegativeReals) \n",
        "\n",
        "  m.lack1 = Var(range(2), within=NonNegativeReals)\n",
        "  m.lack2 = Var(range(2), within=NonNegativeReals)\n",
        "  m.more1 = Var(range(2), within=NonNegativeReals)\n",
        "  m.more2 = Var(range(2), within=NonNegativeReals)\n",
        "  m.z11 = Var(range(2), within=NonNegativeReals)\n",
        "  m.z12 = Var(range(2), within=NonNegativeReals)\n",
        "  m.z22 = Var(range(2), within=NonNegativeReals)\n",
        "  \n",
        "  m.cost = Expression(initialize=(-4*m.x1-2*m.x2))\n",
        "  m.high = Expression(initialize=(8*m.z11[0]+4*(m.z12[0]+m.z22[0])-10*(m.lack1[0]+m.lack2[0])-0.2*(m.more1[0]+m.more2[0]))) \n",
        "  m.low = Expression(initialize=(8*m.z11[1]+4*(m.z12[1]+m.z22[1])-10*(m.lack1[1]+m.lack2[1])-0.2*(m.more1[1]+m.more2[1]))) \n",
        "\n",
        "  m.obj = Objective(expr = -m.cost-0.3*m.high-0.7*m.low, sense=minimize)\n",
        "\n",
        "  m.limit = ConstraintList()\n",
        "  m.limit.add(expr= m.z11[0]+m.z12[0]+m.more1[0] == m.x1) \n",
        "  m.limit.add(expr= m.z11[1]+m.z12[1]+m.more1[1] == m.x1) \n",
        "  m.limit.add(expr= m.z22[0]+m.more2[0] == m.x2)\n",
        "  m.limit.add(expr= m.z22[1]+m.more2[1] == m.x2)\n",
        "  m.limit.add(expr= m.z11[0]+m.lack1[0] == 125)\n",
        "  m.limit.add(expr= m.z11[1]+m.lack1[1] == 75)\n",
        "  m.limit.add(expr= m.z12[0]+m.z22[0]+m.lack2[0] == 100) \n",
        "  m.limit.add(expr= m.z12[1]+m.z22[1]+m.lack2[1] == 112.5) \n",
        "\n",
        "  SolverFactory('glpk', executable='/usr/bin/glpsol').solve(m)\n",
        "  return m\n"
      ],
      "execution_count": 0,
      "outputs": []
    },
    {
      "cell_type": "code",
      "metadata": {
        "id": "jbt1GRo-58tI",
        "colab_type": "code",
        "colab": {}
      },
      "source": [
        "model2 = model2()"
      ],
      "execution_count": 0,
      "outputs": []
    },
    {
      "cell_type": "code",
      "metadata": {
        "id": "f0yJRmEb6O2h",
        "colab_type": "code",
        "colab": {
          "base_uri": "https://localhost:8080/",
          "height": 80
        },
        "outputId": "b345ffa7-f0fb-48a6-b7cb-b8603d091910"
      },
      "source": [
        "m2 = pd.DataFrame(columns=['x1', 'x2', 'objective'], index=['value']) \n",
        "m2['x1'] = model2.x1()\n",
        "m2['x2'] = model2.x2()\n",
        "m2['objective'] = -model2.obj()\n",
        "m2"
      ],
      "execution_count": 75,
      "outputs": [
        {
          "output_type": "execute_result",
          "data": {
            "text/html": [
              "<div>\n",
              "<style scoped>\n",
              "    .dataframe tbody tr th:only-of-type {\n",
              "        vertical-align: middle;\n",
              "    }\n",
              "\n",
              "    .dataframe tbody tr th {\n",
              "        vertical-align: top;\n",
              "    }\n",
              "\n",
              "    .dataframe thead th {\n",
              "        text-align: right;\n",
              "    }\n",
              "</style>\n",
              "<table border=\"1\" class=\"dataframe\">\n",
              "  <thead>\n",
              "    <tr style=\"text-align: right;\">\n",
              "      <th></th>\n",
              "      <th>x1</th>\n",
              "      <th>x2</th>\n",
              "      <th>objective</th>\n",
              "    </tr>\n",
              "  </thead>\n",
              "  <tbody>\n",
              "    <tr>\n",
              "      <th>value</th>\n",
              "      <td>125.0</td>\n",
              "      <td>100.0</td>\n",
              "      <td>449.75</td>\n",
              "    </tr>\n",
              "  </tbody>\n",
              "</table>\n",
              "</div>"
            ],
            "text/plain": [
              "          x1     x2  objective\n",
              "value  125.0  100.0     449.75"
            ]
          },
          "metadata": {
            "tags": []
          },
          "execution_count": 75
        }
      ]
    }
  ]
}