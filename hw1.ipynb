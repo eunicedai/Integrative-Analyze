{
  "nbformat": 4,
  "nbformat_minor": 0,
  "metadata": {
    "colab": {
      "name": "pyomo-1.ipynb",
      "provenance": [],
      "collapsed_sections": [],
      "authorship_tag": "ABX9TyNniLgNjXAnTJnfsKVJHvHw",
      "include_colab_link": true
    },
    "kernelspec": {
      "name": "python3",
      "display_name": "Python 3"
    }
  },
  "cells": [
    {
      "cell_type": "markdown",
      "metadata": {
        "id": "view-in-github",
        "colab_type": "text"
      },
      "source": [
        "<a href=\"https://colab.research.google.com/github/eunicedai/Integrative-Analyze/blob/master/hw1.ipynb\" target=\"_parent\"><img src=\"https://colab.research.google.com/assets/colab-badge.svg\" alt=\"Open In Colab\"/></a>"
      ]
    },
    {
      "cell_type": "markdown",
      "metadata": {
        "id": "3AX9bqvRuDI3",
        "colab_type": "text"
      },
      "source": [
        "### **Homework 1** \n",
        "\n",
        "> TaiHsuan Wu | 2524355409\n",
        "\n"
      ]
    },
    {
      "cell_type": "markdown",
      "metadata": {
        "id": "x4FI1jo3vAjy",
        "colab_type": "text"
      },
      "source": [
        "1.a.) \n",
        "How would the decisions change if the first half of the regular loom hours used were at the rate provided in Table 1, but the rest of the usage is charged at a rate which is 33% higher?"
      ]
    },
    {
      "cell_type": "markdown",
      "metadata": {
        "id": "x308_WWBxCFF",
        "colab_type": "text"
      },
      "source": [
        "> After change the half time of regular loom rate to 33% higher, the effieciency of regular loom would be higher. In this case, the company would produce by using regular loom more than others. "
      ]
    },
    {
      "cell_type": "markdown",
      "metadata": {
        "id": "c_TvTKpfvcK_",
        "colab_type": "text"
      },
      "source": [
        "1.b.) Using the MIP formulation (1-12) in the paper, and using the modifications suggested in part a), solve the revised model.  Considering the conclusions of alternative optima for the model reported in the paper, please address the same question for the revised model."
      ]
    },
    {
      "cell_type": "code",
      "metadata": {
        "id": "zq5lSingfbeK",
        "colab_type": "code",
        "colab": {}
      },
      "source": [
        "!wget https://repo.anaconda.com/archive/Anaconda3-5.2.0-Linux-x86_64.sh && \n",
        "  bash Anaconda3-5.2.0-Linux-x86_64.sh -bfp /usr/local"
      ],
      "execution_count": 0,
      "outputs": []
    },
    {
      "cell_type": "code",
      "metadata": {
        "id": "vwLTznVUfcyI",
        "colab_type": "code",
        "colab": {}
      },
      "source": [
        "import sys\n",
        "sys.path.append('/usr/local/lib/python3.6/site-packages')"
      ],
      "execution_count": 0,
      "outputs": []
    },
    {
      "cell_type": "code",
      "metadata": {
        "id": "TCA8psYyvsq-",
        "colab_type": "code",
        "colab": {}
      },
      "source": [
        "!pip install -q pyomo"
      ],
      "execution_count": 0,
      "outputs": []
    },
    {
      "cell_type": "code",
      "metadata": {
        "id": "G7PRk2W06TQ9",
        "colab_type": "code",
        "colab": {}
      },
      "source": [
        "%matplotlib inline\n",
        "import matplotlib.pyplot as plt\n",
        "import numpy as np\n",
        "import pandas as pd"
      ],
      "execution_count": 0,
      "outputs": []
    },
    {
      "cell_type": "code",
      "metadata": {
        "id": "nMBnlevqgReH",
        "colab_type": "code",
        "colab": {}
      },
      "source": [
        "from __future__ import division\n",
        "from pyomo.environ import *"
      ],
      "execution_count": 0,
      "outputs": []
    },
    {
      "cell_type": "code",
      "metadata": {
        "id": "A5-Fgb-FvcPT",
        "colab_type": "code",
        "colab": {}
      },
      "source": [
        "data = {\n",
        "    1: {'demand': 16500.0, 'drate': 4.653, 'rrate': 0, 'mcost': 0.66, 'ocost': 0.80},\n",
        "    2: {'demand': 52000.0, 'drate': 4.653, 'rrate': 0, 'mcost': 0.56, 'ocost': 0.70},\n",
        "    3: {'demand': 45000.0, 'drate': 4.653, 'rrate': 0, 'mcost': 0.66, 'ocost': 0.85},\n",
        "    4: {'demand': 22000.0, 'drate': 4.653, 'rrate': 0, 'mcost': 0.55, 'ocost': 0.70},\n",
        "    5: {'demand': 76500.0, 'drate': 5.194, 'rrate': 5.194, 'mcost': 0.61, 'ocost': 0.75},\n",
        "    6: {'demand': 110000.0,'drate': 3.809, 'rrate': 3.809, 'mcost': 0.62, 'ocost': 0.75},\n",
        "    7: {'demand': 122000.0,'drate': 4.185, 'rrate': 4.185, 'mcost': 0.65, 'ocost': 0.80},\n",
        "    8: {'demand': 62000.0, 'drate': 5.232, 'rrate': 5.232, 'mcost': 0.49, 'ocost': 0.60},\n",
        "    9: {'demand': 7500.0,  'drate': 5.232, 'rrate': 5.232, 'mcost': 0.50, 'ocost': 0.70},\n",
        "    10:{'demand': 69000.0, 'drate': 5.232, 'rrate': 5.232, 'mcost': 0.44, 'ocost': 0.60},\n",
        "    11:{'demand': 70000.0, 'drate': 3.733, 'rrate': 3.733, 'mcost': 0.64, 'ocost': 0.80},\n",
        "    12:{'demand': 82000.0, 'drate': 4.185, 'rrate': 4.185, 'mcost': 0.57, 'ocost': 0.75},\n",
        "    13:{'demand': 10000.0, 'drate': 4.439, 'rrate': 4.439, 'mcost': 0.50, 'ocost': 0.65},\n",
        "    14:{'demand': 380000.0,'drate': 5.232, 'rrate': 5.232, 'mcost': 0.31, 'ocost': 0.45},\n",
        "    15:{'demand': 62000.0, 'drate': 4.185, 'rrate': 4.185, 'mcost': 0.50, 'ocost': 0.70},\n",
        "}"
      ],
      "execution_count": 0,
      "outputs": []
    },
    {
      "cell_type": "code",
      "metadata": {
        "id": "OiA0i9t16PH4",
        "colab_type": "code",
        "outputId": "f47c6ff2-7889-4187-a127-ba2f52b8f238",
        "colab": {
          "base_uri": "https://localhost:8080/",
          "height": 289
        }
      },
      "source": [
        "# display feed information\n",
        "print(pd.DataFrame.from_dict(data).T)"
      ],
      "execution_count": 7,
      "outputs": [
        {
          "output_type": "stream",
          "text": [
            "      demand  drate  rrate  mcost  ocost\n",
            "1    16500.0  4.653  0.000   0.66   0.80\n",
            "2    52000.0  4.653  0.000   0.56   0.70\n",
            "3    45000.0  4.653  0.000   0.66   0.85\n",
            "4    22000.0  4.653  0.000   0.55   0.70\n",
            "5    76500.0  5.194  5.194   0.61   0.75\n",
            "6   110000.0  3.809  3.809   0.62   0.75\n",
            "7   122000.0  4.185  4.185   0.65   0.80\n",
            "8    62000.0  5.232  5.232   0.49   0.60\n",
            "9     7500.0  5.232  5.232   0.50   0.70\n",
            "10   69000.0  5.232  5.232   0.44   0.60\n",
            "11   70000.0  3.733  3.733   0.64   0.80\n",
            "12   82000.0  4.185  4.185   0.57   0.75\n",
            "13   10000.0  4.439  4.439   0.50   0.65\n",
            "14  380000.0  5.232  5.232   0.31   0.45\n",
            "15   62000.0  4.185  4.185   0.50   0.70\n"
          ],
          "name": "stdout"
        }
      ]
    },
    {
      "cell_type": "code",
      "metadata": {
        "id": "1T4ZdaRI-DUv",
        "colab_type": "code",
        "colab": {}
      },
      "source": [
        "!apt-get install -y -qq glpk-utils"
      ],
      "execution_count": 0,
      "outputs": []
    },
    {
      "cell_type": "code",
      "metadata": {
        "id": "aQ2T2SBj9ywI",
        "colab_type": "code",
        "colab": {}
      },
      "source": [
        "def table1_m2(data):\n",
        "  Ky = data.keys()\n",
        "  model = ConcreteModel()\n",
        "  model.r1 = Var(RangeSet(15), domain=NonNegativeReals)\n",
        "  model.r2 = Var(RangeSet(15), domain=NonNegativeReals)\n",
        "  model.d = Var(RangeSet(15), domain=NonNegativeReals)\n",
        "  model.o = Var(RangeSet(15), domain=NonNegativeReals)\n",
        "  model.obj = Objective(expr = (sum(data[i]['mcost']*(model.r1[i]+model.r2[i]+model.d[i]) for i in Ky)+\n",
        "                                sum(model.o[i]*data[i]['ocost'] for i in Ky)), \n",
        "                        sense = minimize)\n",
        "  model.limits = ConstraintList()\n",
        "  model.limits.add(sum(model.r1[i]/data[i]['rrate']*2 for i in Ky if data[i]['rrate'] != 0) <= 196560)\n",
        "  model.limits.add(sum(model.d[i]/data[i]['drate'] for i in Ky) <= 32760)\n",
        "  for i in Ky:\n",
        "    model.limits.add(model.r1[i]+model.r2[i]+model.d[i]+model.o[i] == data[i]['demand'])\n",
        "    if i > 4:\n",
        "      model.limits.add(model.r1[i]/data[i]['rrate'] == model.r2[i]/(data[i]['rrate']*1.33))\n",
        "  for i in range(1,5):\n",
        "    model.limits.add(model.r1[i] == 0)\n",
        "    model.limits.add(model.r2[i] == 0)\n",
        "\n",
        "  # solve\n",
        "  solver = SolverFactory('glpk', executable='/usr/bin/glpsol').solve(model)\n",
        "\n",
        "  res = pd.DataFrame()\n",
        "  for i in Ky:\n",
        "    res.loc[i, 'Fabric'] = i\n",
        "    res.loc[i, 'Dobby'] = model.d[i]()\n",
        "    res.loc[i, 'Regular'] = model.r1[i]()+model.r2[i]()\n",
        "    res.loc[i, 'Outsource'] = model.o[i]()\n",
        "    res.loc[i, 'Total'] = (res.loc[i, 'Dobby']+res.loc[i, 'Regular']+res.loc[i, 'Outsource'])\n",
        "  \n",
        "  print(res)\n",
        "  print(model.obj())"
      ],
      "execution_count": 0,
      "outputs": []
    },
    {
      "cell_type": "code",
      "metadata": {
        "id": "2d5JaNbv-ITd",
        "colab_type": "code",
        "outputId": "5eca220c-8122-47d2-e95d-e89b3ff7854d",
        "colab": {
          "base_uri": "https://localhost:8080/",
          "height": 306
        }
      },
      "source": [
        "table1_m2(data)"
      ],
      "execution_count": 37,
      "outputs": [
        {
          "output_type": "stream",
          "text": [
            "    Fabric    Dobby   Regular  Outsource     Total\n",
            "1      1.0  16500.0       0.0        0.0   16500.0\n",
            "2      2.0  52000.0       0.0        0.0   52000.0\n",
            "3      3.0  45000.0       0.0        0.0   45000.0\n",
            "4      4.0  22000.0       0.0        0.0   22000.0\n",
            "5      5.0      0.0   76500.0        0.0   76500.0\n",
            "6      6.0      0.0  110000.0        0.0  110000.0\n",
            "7      7.0      0.0  122000.0        0.0  122000.0\n",
            "8      8.0      0.0   62000.0        0.0   62000.0\n",
            "9      9.0      0.0    7500.0        0.0    7500.0\n",
            "10    10.0      0.0   69000.0        0.0   69000.0\n",
            "11    11.0      0.0   70000.0        0.0   70000.0\n",
            "12    12.0      0.0   82000.0        0.0   82000.0\n",
            "13    13.0      0.0   10000.0        0.0   10000.0\n",
            "14    14.0      0.0  380000.0        0.0  380000.0\n",
            "15    15.0      0.0   62000.0        0.0   62000.0\n",
            "585805.0\n"
          ],
          "name": "stdout"
        }
      ]
    },
    {
      "cell_type": "code",
      "metadata": {
        "colab_type": "code",
        "id": "HUR7o1g-9O9A",
        "colab": {}
      },
      "source": [
        "def table2_m2(data):\n",
        "  Ky = data.keys()\n",
        "  model = ConcreteModel()\n",
        "  model.r1 = Var(RangeSet(15), domain=NonNegativeIntegers)\n",
        "  model.r2 = Var(RangeSet(15), domain=NonNegativeIntegers)\n",
        "  model.d = Var(RangeSet(15), domain=NonNegativeIntegers)\n",
        "  model.o = Var(RangeSet(15), domain=NonNegativeIntegers)\n",
        "  model.R = Var(RangeSet(15), within=Binary)\n",
        "  model.O = Var(RangeSet(15), within=Binary)\n",
        "  model.D = Var(RangeSet(15), within=Binary)\n",
        "  model.obj = Objective(expr = (sum(data[i]['mcost']*(model.r1[i]+model.r2[i]+model.d[i]) for i in Ky)+ \n",
        "                                sum(model.o[i]*data[i]['ocost'] for i in Ky)), \n",
        "                        sense = minimize)\n",
        "  model.limits = ConstraintList()\n",
        "  model.limits.add(sum(model.r1[i]/data[i]['rrate']*2 for i in Ky if data[i]['rrate'] != 0) <= 196560)\n",
        "  model.limits.add(sum(model.d[i]/data[i]['drate'] for i in Ky) <= 32760)\n",
        "  for i in Ky:\n",
        "    model.limits.add(model.r1[i]+model.r2[i]+model.d[i]+model.o[i] == data[i]['demand'])\n",
        "    model.limits.add(model.r1[i]+model.r2[i] <= data[i]['demand']*model.R[i])\n",
        "    model.limits.add(model.o[i] <= data[i]['demand']*model.O[i])\n",
        "    model.limits.add(model.d[i] <= data[i]['demand']*model.D[i])\n",
        "    model.limits.add(model.R[i]+model.O[i]+model.D[i] == 1)\n",
        "    if i > 4:\n",
        "      model.limits.add(model.r1[i]/data[i]['rrate'] == model.r2[i]/(data[i]['rrate']*1.33))\n",
        "  for i in range(1,5):\n",
        "    model.limits.add(model.r1[i] == 0)\n",
        "    model.limits.add(model.r2[i] == 0)\n",
        "  # solve\n",
        "  solver = SolverFactory('glpk', executable='/usr/bin/glpsol').solve(model)\n",
        "\n",
        "  res = pd.DataFrame()\n",
        "  for i in Ky:\n",
        "    res.loc[i, 'Fabric'] = i\n",
        "    res.loc[i, 'Dobby'] = model.d[i]()\n",
        "    res.loc[i, 'Regular'] = model.r1[i]()+model.r2[i]()\n",
        "    res.loc[i, 'Outsource'] = model.o[i]()\n",
        "    res.loc[i, 'Total'] = (res.loc[i, 'Dobby']+res.loc[i, 'Regular']+res.loc[i, 'Outsource'])\n",
        "  \n",
        "  print(res)\n",
        "  print(model.obj())"
      ],
      "execution_count": 0,
      "outputs": []
    },
    {
      "cell_type": "code",
      "metadata": {
        "id": "54jF1fgL_MhS",
        "colab_type": "code",
        "outputId": "207d8339-389b-43cd-86ca-ebd28758b159",
        "colab": {
          "base_uri": "https://localhost:8080/",
          "height": 306
        }
      },
      "source": [
        "table2_m2(data)"
      ],
      "execution_count": 43,
      "outputs": [
        {
          "output_type": "stream",
          "text": [
            "    Fabric    Dobby  Regular  Outsource     Total\n",
            "1      1.0      0.0      0.0    16500.0   16500.0\n",
            "2      2.0      0.0      0.0    52000.0   52000.0\n",
            "3      3.0      0.0      0.0    45000.0   45000.0\n",
            "4      4.0  22000.0      0.0        0.0   22000.0\n",
            "5      5.0      0.0      0.0    76500.0   76500.0\n",
            "6      6.0      0.0      0.0   110000.0  110000.0\n",
            "7      7.0      0.0      0.0   122000.0  122000.0\n",
            "8      8.0      0.0      0.0    62000.0   62000.0\n",
            "9      9.0      0.0      0.0     7500.0    7500.0\n",
            "10    10.0  69000.0      0.0        0.0   69000.0\n",
            "11    11.0      0.0      0.0    70000.0   70000.0\n",
            "12    12.0      0.0      0.0    82000.0   82000.0\n",
            "13    13.0      0.0      0.0    10000.0   10000.0\n",
            "14    14.0      0.0      0.0   380000.0  380000.0\n",
            "15    15.0  62000.0      0.0        0.0   62000.0\n",
            "736235.0\n"
          ],
          "name": "stdout"
        }
      ]
    },
    {
      "cell_type": "markdown",
      "metadata": {
        "id": "uG_tB_VcYRek",
        "colab_type": "text"
      },
      "source": [
        "After adding the constraint of binary, the objective value is worse than without binary. Thus use the result from first model for alternative optimal."
      ]
    },
    {
      "cell_type": "code",
      "metadata": {
        "id": "6rqQHKtMDgR2",
        "colab_type": "code",
        "colab": {}
      },
      "source": [
        "def table3_m2(data):\n",
        "  Ky = data.keys()\n",
        "  model = ConcreteModel()\n",
        "  model.r1 = Var(RangeSet(15), domain=NonNegativeReals)\n",
        "  model.r2 = Var(RangeSet(15), domain=NonNegativeReals)\n",
        "  model.d = Var(RangeSet(15), domain=NonNegativeReals)\n",
        "  model.o = Var(RangeSet(15), domain=NonNegativeReals)\n",
        "\n",
        "  model.obj = Objective(expr = (sum(model.d[i]+model.r1[i]+model.r2[i]+model.o[i] for i in Ky)), \n",
        "                        sense = maximize)\n",
        "  model.limits = ConstraintList()\n",
        "  model.limits.add(sum(model.r1[i]/data[i]['rrate']*2 for i in Ky if data[i]['rrate'] != 0) <= 196560)\n",
        "  model.limits.add(sum(model.d[i]/data[i]['drate'] for i in Ky) <= 32760)\n",
        "  for i in Ky:\n",
        "    model.limits.add(model.r1[i]+model.r2[i]+model.d[i]+model.o[i] == data[i]['demand'])\n",
        "    if i > 4:\n",
        "      model.limits.add(model.r1[i]/data[i]['rrate'] == model.r2[i]/(data[i]['rrate']*1.33))\n",
        "  for i in range(1,5):\n",
        "    model.limits.add(model.r1[i] == 0)\n",
        "    model.limits.add(model.r2[i] == 0)\n",
        "  model.limits.add(sum(data[i]['mcost']*(model.r1[i]+model.r2[i]+model.d[i]) for i in Ky)+\n",
        "                   sum(model.o[i]*data[i]['ocost'] for i in Ky) == 585805.0)\n",
        "\n",
        "  # solve\n",
        "  solver = SolverFactory('glpk', executable='/usr/bin/glpsol').solve(model)\n",
        "\n",
        "  res = pd.DataFrame()\n",
        "  for i in Ky:\n",
        "    res.loc[i, 'Fabric'] = i\n",
        "    res.loc[i, 'Dobby'] = model.d[i]()\n",
        "    res.loc[i, 'Regular'] = model.r1[i]()+model.r2[i]()\n",
        "    res.loc[i, 'Outsource'] = model.o[i]()\n",
        "    res.loc[i, 'Total'] = (res.loc[i, 'Dobby']+res.loc[i, 'Regular']+res.loc[i, 'Outsource'])\n",
        "  \n",
        "  print(res)"
      ],
      "execution_count": 0,
      "outputs": []
    },
    {
      "cell_type": "code",
      "metadata": {
        "id": "kp2BcoqwNaSQ",
        "colab_type": "code",
        "outputId": "f49434d1-e04d-44f9-ea36-305ab9bff180",
        "colab": {
          "base_uri": "https://localhost:8080/",
          "height": 289
        }
      },
      "source": [
        "table3_m2(data)"
      ],
      "execution_count": 103,
      "outputs": [
        {
          "output_type": "stream",
          "text": [
            "    Fabric    Dobby   Regular  Outsource     Total\n",
            "1      1.0  16500.0       0.0        0.0   16500.0\n",
            "2      2.0  52000.0       0.0        0.0   52000.0\n",
            "3      3.0  45000.0       0.0        0.0   45000.0\n",
            "4      4.0  22000.0       0.0        0.0   22000.0\n",
            "5      5.0      0.0   76500.0        0.0   76500.0\n",
            "6      6.0      0.0  110000.0        0.0  110000.0\n",
            "7      7.0      0.0  122000.0        0.0  122000.0\n",
            "8      8.0      0.0   62000.0        0.0   62000.0\n",
            "9      9.0      0.0    7500.0        0.0    7500.0\n",
            "10    10.0      0.0   69000.0        0.0   69000.0\n",
            "11    11.0      0.0   70000.0        0.0   70000.0\n",
            "12    12.0      0.0   82000.0        0.0   82000.0\n",
            "13    13.0      0.0   10000.0        0.0   10000.0\n",
            "14    14.0      0.0  380000.0        0.0  380000.0\n",
            "15    15.0      0.0   62000.0        0.0   62000.0\n"
          ],
          "name": "stdout"
        }
      ]
    },
    {
      "cell_type": "markdown",
      "metadata": {
        "id": "3eaET7iYYtD8",
        "colab_type": "text"
      },
      "source": [
        "After comparing the table with first table, we noticed that the optimal solutions are the same they both have optimal solution of 585805.0)."
      ]
    },
    {
      "cell_type": "markdown",
      "metadata": {
        "id": "uL3AyUQq_zqN",
        "colab_type": "text"
      },
      "source": [
        "1.c.)  Using the Ohio counties population data available at http://www.ohio-demographics.com/counties_by_population solve the model provided in model formulation (25-29) , for k=15, and compare your decisions with those reported on page 17 of the paper. "
      ]
    },
    {
      "cell_type": "code",
      "metadata": {
        "id": "IyvmNfuhobdt",
        "colab_type": "code",
        "colab": {}
      },
      "source": [
        "from google.colab import drive \n",
        "drive.mount('/content/gdrive')"
      ],
      "execution_count": 0,
      "outputs": []
    },
    {
      "cell_type": "code",
      "metadata": {
        "id": "31WdzLlWo6fd",
        "colab_type": "code",
        "colab": {}
      },
      "source": [
        "ohio = pd.read_csv('gdrive/My Drive/ISE533/ohio_sheet.csv')"
      ],
      "execution_count": 0,
      "outputs": []
    },
    {
      "cell_type": "code",
      "metadata": {
        "id": "D4DAH185paUt",
        "colab_type": "code",
        "outputId": "4a067064-b8dc-4b6b-ab81-8643c7682f61",
        "colab": {
          "base_uri": "https://localhost:8080/",
          "height": 204
        }
      },
      "source": [
        "ohio.head()"
      ],
      "execution_count": 71,
      "outputs": [
        {
          "output_type": "execute_result",
          "data": {
            "text/html": [
              "<div>\n",
              "<style scoped>\n",
              "    .dataframe tbody tr th:only-of-type {\n",
              "        vertical-align: middle;\n",
              "    }\n",
              "\n",
              "    .dataframe tbody tr th {\n",
              "        vertical-align: top;\n",
              "    }\n",
              "\n",
              "    .dataframe thead th {\n",
              "        text-align: right;\n",
              "    }\n",
              "</style>\n",
              "<table border=\"1\" class=\"dataframe\">\n",
              "  <thead>\n",
              "    <tr style=\"text-align: right;\">\n",
              "      <th></th>\n",
              "      <th>County</th>\n",
              "      <th>Population</th>\n",
              "      <th>Map_Label</th>\n",
              "      <th>Adjacent Matrix</th>\n",
              "    </tr>\n",
              "  </thead>\n",
              "  <tbody>\n",
              "    <tr>\n",
              "      <th>0</th>\n",
              "      <td>Williams County</td>\n",
              "      <td>36,804</td>\n",
              "      <td>1</td>\n",
              "      <td>2,18,19</td>\n",
              "    </tr>\n",
              "    <tr>\n",
              "      <th>1</th>\n",
              "      <td>Defiance County</td>\n",
              "      <td>38,165</td>\n",
              "      <td>2</td>\n",
              "      <td>1, 3,18,17</td>\n",
              "    </tr>\n",
              "    <tr>\n",
              "      <th>2</th>\n",
              "      <td>Paulding County</td>\n",
              "      <td>18,760</td>\n",
              "      <td>3</td>\n",
              "      <td>2,4,17</td>\n",
              "    </tr>\n",
              "    <tr>\n",
              "      <th>3</th>\n",
              "      <td>Van Wert County</td>\n",
              "      <td>28,281</td>\n",
              "      <td>4</td>\n",
              "      <td>3, 5, 15, 16, 17</td>\n",
              "    </tr>\n",
              "    <tr>\n",
              "      <th>4</th>\n",
              "      <td>Mercer County</td>\n",
              "      <td>40,959</td>\n",
              "      <td>5</td>\n",
              "      <td>4,6,15</td>\n",
              "    </tr>\n",
              "  </tbody>\n",
              "</table>\n",
              "</div>"
            ],
            "text/plain": [
              "            County Population  Map_Label   Adjacent Matrix\n",
              "0  Williams County     36,804          1           2,18,19\n",
              "1  Defiance County     38,165          2        1, 3,18,17\n",
              "2  Paulding County     18,760          3            2,4,17\n",
              "3  Van Wert County     28,281          4  3, 5, 15, 16, 17\n",
              "4    Mercer County     40,959          5            4,6,15"
            ]
          },
          "metadata": {
            "tags": []
          },
          "execution_count": 71
        }
      ]
    },
    {
      "cell_type": "code",
      "metadata": {
        "id": "DnL019ZuaN9Y",
        "colab_type": "code",
        "colab": {}
      },
      "source": [
        "country = {}\n",
        "\n",
        "for i in ohio.index:\n",
        "  ohio.loc[i]['Adjacent Matrix'].replace(\" \", \"\")\n",
        "  country[i+1] = [int(x) for x in ohio.loc[i]['Adjacent Matrix'].split(\",\")]\n",
        "  country[i+1].append(i+1)"
      ],
      "execution_count": 0,
      "outputs": []
    },
    {
      "cell_type": "code",
      "metadata": {
        "id": "cGYnFW0jpp4t",
        "colab_type": "code",
        "colab": {}
      },
      "source": [
        "def adj_country(data, matrix):\n",
        "  model = ConcreteModel()\n",
        "  model.x = Var(range(88), within=Binary)\n",
        "  model.y = Var(range(88), within=Binary)\n",
        "  model.obj = Objective(expr = sum(int(data.loc[i]['Population'].replace(\",\", \"\"))*model.y[i] for i in data.index), \n",
        "                        sense = maximize)\n",
        "  model.limits = ConstraintList()\n",
        "  model.limits.add(sum(model.x[i] for i in range(0,88)) <= 15)\n",
        "  for i in range(0,88):\n",
        "    model.limits.add(sum(model.x[j] for j in range(0,88) if (j+1) in matrix[i+1]) >= model.y[i])\n",
        "  \n",
        "  # solve\n",
        "  solver = SolverFactory('glpk', executable='/usr/bin/glpsol').solve(model)\n",
        "\n",
        "  res = pd.DataFrame()\n",
        "  for i in data.index:\n",
        "    if model.x[i]() == 1:\n",
        "      res.loc[i+1, 'Country'] = data.loc[i]['County']\n",
        "      res.loc[i+1, 'Population'] = data.loc[i]['Population']\n",
        "      res.loc[i+1, 'Principal'] = 1\n",
        "  \n",
        "  print(model.obj())\n",
        "  print(res)"
      ],
      "execution_count": 0,
      "outputs": []
    },
    {
      "cell_type": "code",
      "metadata": {
        "id": "TI3ptqPziUwQ",
        "colab_type": "code",
        "outputId": "5fae9a5f-2689-4e47-d107-c8de4c5f587d",
        "colab": {
          "base_uri": "https://localhost:8080/",
          "height": 306
        }
      },
      "source": [
        "adj_country(ohio, country)"
      ],
      "execution_count": 100,
      "outputs": [
        {
          "output_type": "stream",
          "text": [
            "11689442.0\n",
            "            Country Population  Principal\n",
            "4   Van Wert County     28,281        1.0\n",
            "8     Butler County    382,378        1.0\n",
            "14    Shelby County     48,627        1.0\n",
            "18     Henry County     27,086        1.0\n",
            "29     Brown County     43,602        1.0\n",
            "33   Madison County     44,413        1.0\n",
            "35    Marion County     65,256        1.0\n",
            "38  Sandusky County     58,799        1.0\n",
            "51   Jackson County     32,384        1.0\n",
            "55   Licking County    175,769        1.0\n",
            "59   Ashland County     53,745        1.0\n",
            "68    Athens County     65,818        1.0\n",
            "75     Stark County    371,574        1.0\n",
            "78    Geauga County     94,031        1.0\n",
            "87   Belmont County     67,505        1.0\n"
          ],
          "name": "stdout"
        }
      ]
    },
    {
      "cell_type": "markdown",
      "metadata": {
        "id": "qC_X7rjwVE8-",
        "colab_type": "text"
      },
      "source": [
        "The result is the same as the one in the paper (the second alternative solution)."
      ]
    }
  ]
}