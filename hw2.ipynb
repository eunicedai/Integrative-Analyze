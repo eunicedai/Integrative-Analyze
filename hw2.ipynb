{
  "nbformat": 4,
  "nbformat_minor": 0,
  "metadata": {
    "colab": {
      "name": "hw2.ipynb",
      "provenance": [],
      "authorship_tag": "ABX9TyMdYHCIR0IsuQZFxXamKm8M",
      "include_colab_link": true
    },
    "kernelspec": {
      "name": "python3",
      "display_name": "Python 3"
    }
  },
  "cells": [
    {
      "cell_type": "markdown",
      "metadata": {
        "id": "view-in-github",
        "colab_type": "text"
      },
      "source": [
        "<a href=\"https://colab.research.google.com/github/eunicedai/Integrative-Analyze/blob/master/hw2.ipynb\" target=\"_parent\"><img src=\"https://colab.research.google.com/assets/colab-badge.svg\" alt=\"Open In Colab\"/></a>"
      ]
    },
    {
      "cell_type": "markdown",
      "metadata": {
        "id": "uYe3js_K9VOT",
        "colab_type": "text"
      },
      "source": [
        "### **Homework 2** \n",
        "\n",
        "> TaiHsuan Wu | 2524355409"
      ]
    },
    {
      "cell_type": "markdown",
      "metadata": {
        "id": "CtY20Rin9ci3",
        "colab_type": "text"
      },
      "source": [
        "Suppose now that we wish to implement a three interval expansion plan using k = 5, k=10, and finally k=15 in one model.  In this case, the \"glide-path\" solution according to the paper is one where the decisions made for k = 5 are carried over into the solutions for k = 10, and then, the solutions for k = 10 are carried over into the final solution with k=15.  In other words, you are required to solve one IP model in which three different values k = 5,10,15, are used, and the constraints of this model are such that in such a way that the solutions satisfy the \"glide-path\" property.  Provide such a formulation, and solve it.  Please verify that you obtain the required property."
      ]
    },
    {
      "cell_type": "code",
      "metadata": {
        "id": "Yz-4xFQa9OWL",
        "colab_type": "code",
        "colab": {}
      },
      "source": [
        "import sys\n",
        "sys.path.append('/usr/local/lib/python3.6/site-packages')"
      ],
      "execution_count": 0,
      "outputs": []
    },
    {
      "cell_type": "code",
      "metadata": {
        "id": "oKX0wk4o9bqD",
        "colab_type": "code",
        "colab": {}
      },
      "source": [
        "!pip install -q pyomo"
      ],
      "execution_count": 0,
      "outputs": []
    },
    {
      "cell_type": "code",
      "metadata": {
        "id": "u0RvXddK9v3Z",
        "colab_type": "code",
        "colab": {}
      },
      "source": [
        "%matplotlib inline\n",
        "import matplotlib.pyplot as plt\n",
        "import numpy as np\n",
        "import pandas as pd\n",
        "\n",
        "from __future__ import division\n",
        "from pyomo.environ import *"
      ],
      "execution_count": 0,
      "outputs": []
    },
    {
      "cell_type": "code",
      "metadata": {
        "id": "_7C95ch69zxJ",
        "colab_type": "code",
        "colab": {}
      },
      "source": [
        "from google.colab import drive \n",
        "drive.mount('/content/gdrive')"
      ],
      "execution_count": 0,
      "outputs": []
    },
    {
      "cell_type": "code",
      "metadata": {
        "id": "I5VqD4rO-Zpp",
        "colab_type": "code",
        "colab": {}
      },
      "source": [
        "!apt-get install -y -qq glpk-utils"
      ],
      "execution_count": 0,
      "outputs": []
    },
    {
      "cell_type": "code",
      "metadata": {
        "id": "Btm2r66Y94sH",
        "colab_type": "code",
        "colab": {}
      },
      "source": [
        "ohio = pd.read_csv('gdrive/My Drive/ISE533/ohio_sheet.csv')"
      ],
      "execution_count": 0,
      "outputs": []
    },
    {
      "cell_type": "code",
      "metadata": {
        "id": "Agx5l5r3-BDK",
        "colab_type": "code",
        "colab": {
          "base_uri": "https://localhost:8080/",
          "height": 204
        },
        "outputId": "cae82ab6-44ed-4487-dc38-5978ca34cd17"
      },
      "source": [
        "ohio.head()"
      ],
      "execution_count": 6,
      "outputs": [
        {
          "output_type": "execute_result",
          "data": {
            "text/html": [
              "<div>\n",
              "<style scoped>\n",
              "    .dataframe tbody tr th:only-of-type {\n",
              "        vertical-align: middle;\n",
              "    }\n",
              "\n",
              "    .dataframe tbody tr th {\n",
              "        vertical-align: top;\n",
              "    }\n",
              "\n",
              "    .dataframe thead th {\n",
              "        text-align: right;\n",
              "    }\n",
              "</style>\n",
              "<table border=\"1\" class=\"dataframe\">\n",
              "  <thead>\n",
              "    <tr style=\"text-align: right;\">\n",
              "      <th></th>\n",
              "      <th>County</th>\n",
              "      <th>Population</th>\n",
              "      <th>Map_Label</th>\n",
              "      <th>Adjacent Matrix</th>\n",
              "    </tr>\n",
              "  </thead>\n",
              "  <tbody>\n",
              "    <tr>\n",
              "      <th>0</th>\n",
              "      <td>Williams County</td>\n",
              "      <td>36,804</td>\n",
              "      <td>1</td>\n",
              "      <td>2,18,19</td>\n",
              "    </tr>\n",
              "    <tr>\n",
              "      <th>1</th>\n",
              "      <td>Defiance County</td>\n",
              "      <td>38,165</td>\n",
              "      <td>2</td>\n",
              "      <td>1, 3,18,17</td>\n",
              "    </tr>\n",
              "    <tr>\n",
              "      <th>2</th>\n",
              "      <td>Paulding County</td>\n",
              "      <td>18,760</td>\n",
              "      <td>3</td>\n",
              "      <td>2,4,17</td>\n",
              "    </tr>\n",
              "    <tr>\n",
              "      <th>3</th>\n",
              "      <td>Van Wert County</td>\n",
              "      <td>28,281</td>\n",
              "      <td>4</td>\n",
              "      <td>3, 5, 15, 16, 17</td>\n",
              "    </tr>\n",
              "    <tr>\n",
              "      <th>4</th>\n",
              "      <td>Mercer County</td>\n",
              "      <td>40,959</td>\n",
              "      <td>5</td>\n",
              "      <td>4,6,15</td>\n",
              "    </tr>\n",
              "  </tbody>\n",
              "</table>\n",
              "</div>"
            ],
            "text/plain": [
              "            County Population  Map_Label   Adjacent Matrix\n",
              "0  Williams County     36,804          1           2,18,19\n",
              "1  Defiance County     38,165          2        1, 3,18,17\n",
              "2  Paulding County     18,760          3            2,4,17\n",
              "3  Van Wert County     28,281          4  3, 5, 15, 16, 17\n",
              "4    Mercer County     40,959          5            4,6,15"
            ]
          },
          "metadata": {
            "tags": []
          },
          "execution_count": 6
        }
      ]
    },
    {
      "cell_type": "code",
      "metadata": {
        "id": "qk9rEZ60-Crr",
        "colab_type": "code",
        "colab": {}
      },
      "source": [
        "country = {}\n",
        "\n",
        "for i in ohio.index:\n",
        "  ohio.loc[i]['Adjacent Matrix'].replace(\" \", \"\")\n",
        "  country[i+1] = [int(x) for x in ohio.loc[i]['Adjacent Matrix'].split(\",\")]\n",
        "  country[i+1].append(i+1)"
      ],
      "execution_count": 0,
      "outputs": []
    },
    {
      "cell_type": "code",
      "metadata": {
        "id": "oEsfwrgm-Ez1",
        "colab_type": "code",
        "colab": {}
      },
      "source": [
        "def adj_country1(data, matrix, kvalue):\n",
        "  model = ConcreteModel()\n",
        "  model.x = Var(range(88), within=Binary)\n",
        "  model.y = Var(range(88), within=Binary)\n",
        "  model.obj = Objective(expr = sum(int(data.loc[i]['Population'].replace(\",\", \"\"))*model.y[i] for i in data.index), \n",
        "                        sense = maximize)\n",
        "  model.limits = ConstraintList()\n",
        "  model.limits.add(sum(model.x[i] for i in range(0,88)) <= kvalue)\n",
        "  for i in range(0,88):\n",
        "    model.limits.add(sum(model.x[j] for j in range(0,88) if (j+1) in matrix[i+1]) >= model.y[i])\n",
        "  \n",
        "  # solve\n",
        "  solver = SolverFactory('glpk', executable='/usr/bin/glpsol').solve(model)\n",
        "\n",
        "  res = pd.DataFrame()\n",
        "  for i in data.index:\n",
        "    if model.x[i]() == 1:\n",
        "      res.loc[i+1, 'Country'] = data.loc[i]['County']\n",
        "      res.loc[i+1, 'Population'] = data.loc[i]['Population']\n",
        "      res.loc[i+1, 'Principal'] = 1\n",
        "  \n",
        "  print(res)"
      ],
      "execution_count": 0,
      "outputs": []
    },
    {
      "cell_type": "code",
      "metadata": {
        "id": "d770B4zG-O7t",
        "colab_type": "code",
        "colab": {
          "base_uri": "https://localhost:8080/",
          "height": 119
        },
        "outputId": "9a41d1ab-55d4-496c-d7d6-8903fadfb3ec"
      },
      "source": [
        "adj_country1(ohio, country, 5)"
      ],
      "execution_count": 22,
      "outputs": [
        {
          "output_type": "stream",
          "text": [
            "            Country Population  Principal\n",
            "11    Warren County    232,173        1.0\n",
            "21      Wood County    130,696        1.0\n",
            "55   Licking County    175,769        1.0\n",
            "60  Cuyahoga County  1,243,857        1.0\n",
            "75     Stark County    371,574        1.0\n"
          ],
          "name": "stdout"
        }
      ]
    },
    {
      "cell_type": "code",
      "metadata": {
        "id": "ofBeXBoFAer6",
        "colab_type": "code",
        "colab": {}
      },
      "source": [
        "k5=[11,21,55,60,75]"
      ],
      "execution_count": 0,
      "outputs": []
    },
    {
      "cell_type": "code",
      "metadata": {
        "id": "0z53nkZBAVWs",
        "colab_type": "code",
        "colab": {}
      },
      "source": [
        "def adj_country2(data, matrix, kvalue):\n",
        "  model = ConcreteModel()\n",
        "  model.x = Var(range(88), within=Binary)\n",
        "  model.y = Var(range(88), within=Binary)\n",
        "  model.obj = Objective(expr = sum(int(data.loc[i]['Population'].replace(\",\", \"\"))*model.y[i] for i in data.index), \n",
        "                        sense = maximize)\n",
        "  model.limits = ConstraintList()\n",
        "  for i in k5:\n",
        "    model.limits.add(model.x[i-1] == 1)\n",
        "  model.limits.add(sum(model.x[i] for i in range(0,88)) <= kvalue)\n",
        "  for i in range(0,88):\n",
        "    model.limits.add(sum(model.x[j] for j in range(0,88) if (j+1) in matrix[i+1]) >= model.y[i])\n",
        "  \n",
        "  # solve\n",
        "  solver = SolverFactory('glpk', executable='/usr/bin/glpsol').solve(model)\n",
        "\n",
        "  res = pd.DataFrame()\n",
        "  for i in data.index:\n",
        "    if model.x[i]() == 1:\n",
        "      res.loc[i+1, 'Country'] = data.loc[i]['County']\n",
        "      res.loc[i+1, 'Population'] = data.loc[i]['Population']\n",
        "      res.loc[i+1, 'Principal'] = 1\n",
        "  \n",
        "  print(res)"
      ],
      "execution_count": 0,
      "outputs": []
    },
    {
      "cell_type": "code",
      "metadata": {
        "id": "nIKN9Xv5-yal",
        "colab_type": "code",
        "colab": {
          "base_uri": "https://localhost:8080/",
          "height": 204
        },
        "outputId": "d25ca211-9889-49da-9dc6-624e0bd034e8"
      },
      "source": [
        "adj_country2(ohio, country, 10)"
      ],
      "execution_count": 25,
      "outputs": [
        {
          "output_type": "stream",
          "text": [
            "             Country Population  Principal\n",
            "11     Warren County    232,173        1.0\n",
            "15   Auglaize County     45,804        1.0\n",
            "21       Wood County    130,696        1.0\n",
            "25  Champaign County     38,754        1.0\n",
            "41      Huron County     58,504        1.0\n",
            "51    Jackson County     32,384        1.0\n",
            "55    Licking County    175,769        1.0\n",
            "60   Cuyahoga County  1,243,857        1.0\n",
            "75      Stark County    371,574        1.0\n",
            "78     Geauga County     94,031        1.0\n"
          ],
          "name": "stdout"
        }
      ]
    },
    {
      "cell_type": "code",
      "metadata": {
        "id": "4YboUcxPBR75",
        "colab_type": "code",
        "colab": {}
      },
      "source": [
        "k10=[11,15,21,25,41,51,55,60,75,78]"
      ],
      "execution_count": 0,
      "outputs": []
    },
    {
      "cell_type": "code",
      "metadata": {
        "id": "yxrQfG3gBldU",
        "colab_type": "code",
        "colab": {}
      },
      "source": [
        "def adj_country3(data, matrix, kvalue):\n",
        "  model = ConcreteModel()\n",
        "  model.x = Var(range(88), within=Binary)\n",
        "  model.y = Var(range(88), within=Binary)\n",
        "  model.obj = Objective(expr = sum(int(data.loc[i]['Population'].replace(\",\", \"\"))*model.y[i] for i in data.index), \n",
        "                        sense = maximize)\n",
        "  model.limits = ConstraintList()\n",
        "  for i in k10:\n",
        "    model.limits.add(model.x[i-1] == 1)\n",
        "  model.limits.add(sum(model.x[i] for i in range(0,88)) <= kvalue)\n",
        "  for i in range(0,88):\n",
        "    model.limits.add(sum(model.x[j] for j in range(0,88) if (j+1) in matrix[i+1]) >= model.y[i])\n",
        "  \n",
        "  # solve\n",
        "  solver = SolverFactory('glpk', executable='/usr/bin/glpsol').solve(model)\n",
        "\n",
        "  res = pd.DataFrame()\n",
        "  for i in data.index:\n",
        "    if model.x[i]() == 1:\n",
        "      res.loc[i+1, 'Country'] = data.loc[i]['County']\n",
        "      res.loc[i+1, 'Population'] = data.loc[i]['Population']\n",
        "      res.loc[i+1, 'Principal'] = 1\n",
        "  \n",
        "  print(res)"
      ],
      "execution_count": 0,
      "outputs": []
    },
    {
      "cell_type": "code",
      "metadata": {
        "id": "d53HBXWB-2cG",
        "colab_type": "code",
        "colab": {
          "base_uri": "https://localhost:8080/",
          "height": 289
        },
        "outputId": "cbb59885-0c93-4b84-f176-820803889cdd"
      },
      "source": [
        "adj_country3(ohio, country, 15)"
      ],
      "execution_count": 29,
      "outputs": [
        {
          "output_type": "stream",
          "text": [
            "             Country Population  Principal\n",
            "1    Williams County     36,804        1.0\n",
            "11     Warren County    232,173        1.0\n",
            "15   Auglaize County     45,804        1.0\n",
            "21       Wood County    130,696        1.0\n",
            "25  Champaign County     38,754        1.0\n",
            "31   Highland County     43,058        1.0\n",
            "35     Marion County     65,256        1.0\n",
            "41      Huron County     58,504        1.0\n",
            "51    Jackson County     32,384        1.0\n",
            "55    Licking County    175,769        1.0\n",
            "60   Cuyahoga County  1,243,857        1.0\n",
            "68     Athens County     65,818        1.0\n",
            "75      Stark County    371,574        1.0\n",
            "78     Geauga County     94,031        1.0\n",
            "87    Belmont County     67,505        1.0\n"
          ],
          "name": "stdout"
        }
      ]
    }
  ]
}